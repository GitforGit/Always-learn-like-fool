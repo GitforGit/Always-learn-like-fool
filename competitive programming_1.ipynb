{
 "cells": [
  {
   "cell_type": "markdown",
   "metadata": {},
   "source": [
    "# Paytm Interview questions\n",
    "\n",
    "problem statement\n",
    "Sort the given Linked List using quicksort. which takes O(n^2) time in worst case and O(nLogn) in average and best cases, otherwise you may get TLE.\n",
    "\n",
    "Input:\n",
    "In this problem, method takes 1 argument: address of the head of the linked list. The function should not read any input from stdin/console.\n",
    "The struct Node has a data part which stores the data and a next pointer which points to the next element of the linked list.\n",
    "There are multiple test cases. For each test case, this method will be called individually.\n",
    "\n",
    "Output:\n",
    "Set *headRef to head of resultant linked list.\n",
    "\n",
    "User Task:\n",
    "The task is to complete the function quickSort() which should set the *headRef to head of the resultant linked list.\n",
    "\n",
    "Constraints:\n",
    "1<=T<=100\n",
    "1<=N<=200\n",
    "Note: If you use \"Test\" or \"Expected Output Button\" use below example format\n",
    "\n",
    "Example:\n",
    "Input:\n",
    "2\n",
    "3\n",
    "1 6 2\n",
    "4\n",
    "1 9 3 8\n",
    "\n",
    "Output:\n",
    "1 2 6\n",
    "1 3 8 9\n",
    "\n",
    "Explanation:\n",
    "Testcase 1: After sorting the nodes, we have 1, 2 and 6.\n",
    "Testcase 2: After sorting the nodes, we have 1, 3, 8 and 9."
   ]
  },
  {
   "cell_type": "code",
   "execution_count": 3,
   "metadata": {},
   "outputs": [
    {
     "name": "stdout",
     "output_type": "stream",
     "text": [
      "1\n",
      "3\n",
      "10\n",
      "5\n",
      "2\n",
      "sorted input is [2, 5, 10]\n"
     ]
    }
   ],
   "source": [
    "firstinput=int(input())\n",
    "for i in range(0, firstinput):\n",
    "    secondinput=int(input())\n",
    "    count_sort=[]\n",
    "    for j in range(0, secondinput):\n",
    "        append=int(input())\n",
    "        count_sort.append(append)\n",
    "        count_sort.sort()\n",
    "    print('sorted input is', count_sort)    "
   ]
  },
  {
   "cell_type": "markdown",
   "metadata": {},
   "source": [
    "Given a Linked List of integers, write a function to modify the linked list such that all even numbers appear before all the odd numbers in the modified linked list. Also, keep the order of even and odd numbers same.\n",
    "\n",
    "Input:\n",
    "\n",
    "The first line of input contains an integer T denoting the number of test cases.\n",
    "The first line of each test case is N,N is the number of elements in Linked List.\n",
    "The second line of each test case contains N input,elements in Linked List.\n",
    "\n",
    "Output:\n",
    "\n",
    "Print the all even numbers then odd numbers in the modified Linked List.\n",
    "\n",
    "Constraints:\n",
    "\n",
    "1 ≤ T ≤ 100\n",
    "1 ≤ N ≤ 100\n",
    "1 ≤ size of elements ≤ 1000\n",
    "\n",
    "Example:\n",
    "\n",
    "Input\n",
    "3\n",
    "7\n",
    "17 15 8 9 2 4 6\n",
    "4\n",
    "1 3 5 7\n",
    "7\n",
    "8 12 10 5 4 1 6\n",
    "\n",
    "Output\n",
    "8 2 4 6 17 15 9\n",
    "1 3 5 7\n",
    "8 12 10 4 6 5 1"
   ]
  },
  {
   "cell_type": "code",
   "execution_count": 18,
   "metadata": {},
   "outputs": [
    {
     "name": "stdout",
     "output_type": "stream",
     "text": [
      "1\n",
      "8\n",
      "2\n",
      "Hello appended data\n",
      "4\n",
      "Hello appended data\n",
      "6\n",
      "Hello appended data\n",
      "7\n",
      "8\n",
      "Hello appended data\n",
      "2\n",
      "Hello appended data\n",
      "9\n",
      "11\n",
      "['7', '9', '11']\n",
      "['2', '4', '6', '8', '2']\n",
      "['2', '4', '6', '8', '2', '7', '9', '11']\n"
     ]
    }
   ],
   "source": [
    "firstinput=int(input())\n",
    "for i in range(0, firstinput):\n",
    "    secondinput=int(input())\n",
    "    list_odd=[]\n",
    "    list_even=[]\n",
    "    for j in range(0, secondinput):\n",
    "        check_oddeven=input()\n",
    "        if (int(check_oddeven) % 2) == 0:\n",
    "            print(\"Hello appended data\",)\n",
    "            list_even.append(check_oddeven)\n",
    "        else:\n",
    "            list_odd.append(check_oddeven)\n",
    "            \n",
    "    print(list_odd)\n",
    "    print(list_even)   \n",
    "    \n",
    "    Final_list=[]\n",
    "    Final_list=list_even+list_odd\n",
    "    print(Final_list)"
   ]
  },
  {
   "cell_type": "code",
   "execution_count": null,
   "metadata": {},
   "outputs": [],
   "source": []
  }
 ],
 "metadata": {
  "kernelspec": {
   "display_name": "Python 3",
   "language": "python",
   "name": "python3"
  },
  "language_info": {
   "codemirror_mode": {
    "name": "ipython",
    "version": 3
   },
   "file_extension": ".py",
   "mimetype": "text/x-python",
   "name": "python",
   "nbconvert_exporter": "python",
   "pygments_lexer": "ipython3",
   "version": "3.7.6"
  }
 },
 "nbformat": 4,
 "nbformat_minor": 4
}
